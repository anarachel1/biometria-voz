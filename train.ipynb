{
 "cells": [
  {
   "cell_type": "code",
   "execution_count": 1,
   "metadata": {},
   "outputs": [],
   "source": [
    "import librosa\n",
    "import numpy as np\n",
    "import pandas as pd\n",
    "import matplotlib.pyplot as plt\n",
    "from tqdm import tqdm\n",
    "\n",
    "\n",
    "import os\n",
    "%matplotlib inline"
   ]
  },
  {
   "cell_type": "markdown",
   "metadata": {},
   "source": [
    "## COMMON VOICE DATASET"
   ]
  },
  {
   "cell_type": "markdown",
   "metadata": {},
   "source": [
    "### Deletar uma parte do dataset \n",
    "\n",
    "O common voice dataset contem muitos audios, vamos usar so uma parte para agilizar o treino!"
   ]
  },
  {
   "cell_type": "code",
   "execution_count": 3,
   "metadata": {},
   "outputs": [
    {
     "name": "stdout",
     "output_type": "stream",
     "text": [
      " Atualmente o dataset NAO ANA, tem  1010\n"
     ]
    },
    {
     "data": {
      "text/plain": [
       "'\\nimport os\\nimport random\\n\\nwav_files = []\\ndataset_path = \\'./dataset/nao_ana/\\'\\n\\n# todos os caminhos dos arquivos .wav\\nfor root, dirs, files in os.walk(dataset_path):\\n    for file in files:\\n        if file.endswith(\\'.mp3\\'):\\n            wav_files.append(os.path.join(root, file))\\n\\n# quantos arquivos devem ser deletados (50%)\\nnum_files_to_delete = len(wav_files) // 2\\n\\n\\nfiles_to_delete = random.sample(wav_files, num_files_to_delete\\nfor file_path in files_to_delete:\\n    os.remove(file_path)\\n    print(f\"Arquivo deletado: {file_path}\")\\n\\nprint(f\"Total de arquivos deletados: {num_files_to_delete}\")\\n'"
      ]
     },
     "execution_count": 3,
     "metadata": {},
     "output_type": "execute_result"
    }
   ],
   "source": [
    "# Varre o diretório e coleta todos os caminhos dos arquivos .wav\n",
    "ct = 0\n",
    "for root, dirs, files in os.walk(\"dataset/nao_ana\"):\n",
    "    for file in files:\n",
    "        if file.endswith('.wav'):\n",
    "            ct+=1\n",
    "print(\" Atualmente o dataset NAO ANA, tem \", ct)\n",
    "            \n",
    "'''\n",
    "import os\n",
    "import random\n",
    "\n",
    "wav_files = []\n",
    "dataset_path = './dataset/nao_ana/'\n",
    "\n",
    "# todos os caminhos dos arquivos .wav\n",
    "for root, dirs, files in os.walk(dataset_path):\n",
    "    for file in files:\n",
    "        if file.endswith('.mp3'):\n",
    "            wav_files.append(os.path.join(root, file))\n",
    "\n",
    "# quantos arquivos devem ser deletados (50%)\n",
    "num_files_to_delete = len(wav_files) // 2\n",
    "\n",
    "\n",
    "files_to_delete = random.sample(wav_files, num_files_to_delete\n",
    "for file_path in files_to_delete:\n",
    "    os.remove(file_path)\n",
    "    print(f\"Arquivo deletado: {file_path}\")\n",
    "\n",
    "print(f\"Total de arquivos deletados: {num_files_to_delete}\")\n",
    "'''"
   ]
  },
  {
   "cell_type": "markdown",
   "metadata": {},
   "source": [
    "###  Configurar audios dataset \n",
    "\n",
    "Assegurar que o dataset esta com as mesmas configuracoes que os audios ANA, isso inclui ter: 1 canais, formato wav etc"
   ]
  },
  {
   "cell_type": "code",
   "execution_count": 11,
   "metadata": {},
   "outputs": [
    {
     "name": "stderr",
     "output_type": "stream",
     "text": [
      "Convertendo arquivos .mp3 para .wav: 0it [00:00, ?it/s]\n"
     ]
    }
   ],
   "source": [
    "'''\n",
    "import ffmpeg\n",
    "import wave\n",
    "import os\n",
    "from tqdm import tqdm\n",
    "\n",
    "# Diretório onde os arquivos .mp3 estão localizados\n",
    "dataset_dir = './dataset/nao_ana/'\n",
    "\n",
    "mp3_files = []\n",
    "\n",
    "# todos os caminhos dos arquivos .mp3\n",
    "for root, dirs, files in os.walk(dataset_dir):\n",
    "    for filename in files:\n",
    "        if filename.endswith('.mp3'):\n",
    "            mp3_files.append(os.path.join(root, filename))\n",
    "\n",
    "# Cria e utiliza a barra de progresso do tqdm\n",
    "for full_path in tqdm(mp3_files, desc=\"Convertendo arquivos .mp3 para .wav\"):\n",
    "    name_without_extension = os.path.splitext(os.path.basename(full_path))[0]\n",
    "    \n",
    "    # converte o arquivo para o formato desejado \n",
    "    out, _ = (ffmpeg\n",
    "        .input(full_path)\n",
    "        .output('-', format='s16le', acodec='pcm_s16le', ac=1, ar='22k')\n",
    "        .overwrite_output()\n",
    "        .run(capture_stdout=True)\n",
    "    )\n",
    "\n",
    "    CHANNELS = 1\n",
    "    RATE = 22000\n",
    "    swidth = 2\n",
    "\n",
    "    # Salva o arquivo de áudio convertido como .wav\n",
    "    wav_path = os.path.join(os.path.dirname(full_path), name_without_extension + '.wav')\n",
    "    \n",
    "    with wave.open(wav_path, 'wb') as wf:\n",
    "        wf.setnchannels(CHANNELS)\n",
    "        wf.setsampwidth(swidth)\n",
    "        wf.setframerate(RATE)\n",
    "        wf.writeframes(out)\n",
    "\n",
    "'''\n"
   ]
  },
  {
   "cell_type": "markdown",
   "metadata": {},
   "source": [
    "## Spectogramas"
   ]
  },
  {
   "cell_type": "code",
   "execution_count": 5,
   "metadata": {},
   "outputs": [
    {
     "name": "stdout",
     "output_type": "stream",
     "text": [
      "labels  ['ana', 'nao_ana']\n"
     ]
    }
   ],
   "source": [
    "y = []\n",
    "x = []\n",
    "\n",
    "paths = os.listdir('dataset')\n",
    "\n",
    "print(\"labels \", paths)\n",
    "classe = 0\n",
    "\n",
    "for path in paths:\n",
    "    path_name = os.path.join('./', 'dataset', path)\n",
    "    for file in os.listdir(path_name):\n",
    "        #audio\n",
    "        filename = os.path.join(path_name, file)\n",
    "        \n",
    "        #carrega o audio\n",
    "        audio, sr = librosa.load(filename, sr=22000, duration=3)\n",
    "        \n",
    "        #gera o spectograma\n",
    "        S = librosa.feature.melspectrogram(y=audio, sr=sr, n_mels=64)\n",
    "        log_S = librosa.amplitude_to_db(S, ref=np.max) #log scale\n",
    "        \n",
    "        # adiciona array e label a X e Y\n",
    "        x.append(log_S) \n",
    "        y.append(np.array(classe))\n",
    "        \n",
    "    # muda a classe    \n",
    "    classe +=1\n"
   ]
  },
  {
   "cell_type": "code",
   "execution_count": 6,
   "metadata": {
    "scrolled": true
   },
   "outputs": [
    {
     "data": {
      "text/plain": [
       "1042"
      ]
     },
     "execution_count": 6,
     "metadata": {},
     "output_type": "execute_result"
    }
   ],
   "source": [
    "# total de audios ( ana + nao ana)\n",
    "len(x)"
   ]
  },
  {
   "cell_type": "code",
   "execution_count": 7,
   "metadata": {},
   "outputs": [
    {
     "name": "stdout",
     "output_type": "stream",
     "text": [
      "242  deletados\n"
     ]
    }
   ],
   "source": [
    "# ------------- DELETAR AUDIOS DE TAMANHO DIFERENTE ! ------------------\n",
    "\n",
    "# Copia original das listas\n",
    "x_original = x.copy()\n",
    "y_original = y.copy()\n",
    "\n",
    "# Índices dos elementos a serem removidos\n",
    "indices_to_remove = []\n",
    "\n",
    "# Use enumerate para obter o índice e o elemento em x\n",
    "for i, elem in enumerate(x_original):\n",
    "    if elem.shape != (64, 129):\n",
    "        indices_to_remove.append(i)  # Adiciona o índice à lista de remoção\n",
    "\n",
    "# Remover elementos das listas originais, começando pelos maiores índices\n",
    "ct =0\n",
    "for idx in sorted(indices_to_remove, reverse=True):\n",
    "    del x[idx]\n",
    "    del y[idx]\n",
    "    ct +=1\n",
    "print(ct, \" deletados\")"
   ]
  },
  {
   "cell_type": "code",
   "execution_count": 8,
   "metadata": {},
   "outputs": [],
   "source": [
    "x = np.array(x)\n",
    "y = np.array(y)"
   ]
  },
  {
   "cell_type": "code",
   "execution_count": 9,
   "metadata": {},
   "outputs": [
    {
     "data": {
      "text/plain": [
       "(800, 64, 129)"
      ]
     },
     "execution_count": 9,
     "metadata": {},
     "output_type": "execute_result"
    }
   ],
   "source": [
    "x.shape"
   ]
  },
  {
   "cell_type": "code",
   "execution_count": 10,
   "metadata": {},
   "outputs": [
    {
     "data": {
      "text/plain": [
       "(800,)"
      ]
     },
     "execution_count": 10,
     "metadata": {},
     "output_type": "execute_result"
    }
   ],
   "source": [
    "y.shape"
   ]
  },
  {
   "cell_type": "markdown",
   "metadata": {},
   "source": [
    "VAO SER UTILIZADOS UM TOTAL DE 800 AUDIOS, SENDO 32 DE ANA"
   ]
  },
  {
   "cell_type": "markdown",
   "metadata": {},
   "source": [
    "## Model Trainning"
   ]
  },
  {
   "cell_type": "code",
   "execution_count": 11,
   "metadata": {},
   "outputs": [],
   "source": [
    "from keras.callbacks import ModelCheckpoint, EarlyStopping, CSVLogger\n",
    "from keras.models import Model, Sequential\n",
    "from keras.utils import to_categorical\n",
    "from keras.layers import Dense, Input, Dropout, BatchNormalization, Convolution2D, MaxPool2D, GlobalMaxPool2D, Activation, Flatten, Reshape, ZeroPadding2D, Conv2D, MaxPooling2D, GlobalAveragePooling2D\n",
    "from sklearn.model_selection import train_test_split"
   ]
  },
  {
   "cell_type": "code",
   "execution_count": 12,
   "metadata": {},
   "outputs": [
    {
     "data": {
      "text/plain": [
       "array([[1., 0.],\n",
       "       [1., 0.],\n",
       "       [1., 0.],\n",
       "       ...,\n",
       "       [0., 1.],\n",
       "       [0., 1.],\n",
       "       [0., 1.]], dtype=float32)"
      ]
     },
     "execution_count": 12,
     "metadata": {},
     "output_type": "execute_result"
    }
   ],
   "source": [
    "y_c = to_categorical(y, num_classes=classe)\n",
    "y_c\n",
    "# ana = index 0\n",
    "# outros = index 1"
   ]
  },
  {
   "cell_type": "code",
   "execution_count": 13,
   "metadata": {},
   "outputs": [],
   "source": [
    "X_train, X_test, y_train, y_test = train_test_split(\n",
    "    x.reshape(*x.shape, 1), y_c, test_size=0.33, random_state=22)"
   ]
  },
  {
   "cell_type": "code",
   "execution_count": 14,
   "metadata": {},
   "outputs": [
    {
     "name": "stdout",
     "output_type": "stream",
     "text": [
      "Model: \"sequential\"\n",
      "_________________________________________________________________\n",
      " Layer (type)                Output Shape              Param #   \n",
      "=================================================================\n",
      " zero_padding2d (ZeroPaddin  (None, 66, 131, 1)        0         \n",
      " g2D)                                                            \n",
      "                                                                 \n",
      " batch_normalization (Batch  (None, 66, 131, 1)        4         \n",
      " Normalization)                                                  \n",
      "                                                                 \n",
      " activation (Activation)     (None, 66, 131, 1)        0         \n",
      "                                                                 \n",
      " conv2d (Conv2D)             (None, 63, 125, 32)       928       \n",
      "                                                                 \n",
      " zero_padding2d_1 (ZeroPadd  (None, 65, 127, 32)       0         \n",
      " ing2D)                                                          \n",
      "                                                                 \n",
      " batch_normalization_1 (Bat  (None, 65, 127, 32)       128       \n",
      " chNormalization)                                                \n",
      "                                                                 \n",
      " activation_1 (Activation)   (None, 65, 127, 32)       0         \n",
      "                                                                 \n",
      " conv2d_1 (Conv2D)           (None, 63, 125, 32)       9248      \n",
      "                                                                 \n",
      " max_pooling2d (MaxPooling2  (None, 21, 41, 32)        0         \n",
      " D)                                                              \n",
      "                                                                 \n",
      " zero_padding2d_2 (ZeroPadd  (None, 23, 43, 32)        0         \n",
      " ing2D)                                                          \n",
      "                                                                 \n",
      " batch_normalization_2 (Bat  (None, 23, 43, 32)        128       \n",
      " chNormalization)                                                \n",
      "                                                                 \n",
      " activation_2 (Activation)   (None, 23, 43, 32)        0         \n",
      "                                                                 \n",
      " conv2d_2 (Conv2D)           (None, 21, 41, 64)        18496     \n",
      "                                                                 \n",
      " zero_padding2d_3 (ZeroPadd  (None, 23, 43, 64)        0         \n",
      " ing2D)                                                          \n",
      "                                                                 \n",
      " batch_normalization_3 (Bat  (None, 23, 43, 64)        256       \n",
      " chNormalization)                                                \n",
      "                                                                 \n",
      " activation_3 (Activation)   (None, 23, 43, 64)        0         \n",
      "                                                                 \n",
      " conv2d_3 (Conv2D)           (None, 20, 37, 64)        114752    \n",
      "                                                                 \n",
      " max_pooling2d_1 (MaxPoolin  (None, 6, 12, 64)         0         \n",
      " g2D)                                                            \n",
      "                                                                 \n",
      " zero_padding2d_4 (ZeroPadd  (None, 8, 14, 64)         0         \n",
      " ing2D)                                                          \n",
      "                                                                 \n",
      " batch_normalization_4 (Bat  (None, 8, 14, 64)         256       \n",
      " chNormalization)                                                \n",
      "                                                                 \n",
      " activation_4 (Activation)   (None, 8, 14, 64)         0         \n",
      "                                                                 \n",
      " conv2d_4 (Conv2D)           (None, 6, 12, 128)        73856     \n",
      "                                                                 \n",
      " zero_padding2d_5 (ZeroPadd  (None, 8, 14, 128)        0         \n",
      " ing2D)                                                          \n",
      "                                                                 \n",
      " batch_normalization_5 (Bat  (None, 8, 14, 128)        512       \n",
      " chNormalization)                                                \n",
      "                                                                 \n",
      " activation_5 (Activation)   (None, 8, 14, 128)        0         \n",
      "                                                                 \n",
      " conv2d_5 (Conv2D)           (None, 5, 8, 128)         458880    \n",
      "                                                                 \n",
      " max_pooling2d_2 (MaxPoolin  (None, 1, 2, 128)         0         \n",
      " g2D)                                                            \n",
      "                                                                 \n",
      " zero_padding2d_6 (ZeroPadd  (None, 3, 4, 128)         0         \n",
      " ing2D)                                                          \n",
      "                                                                 \n",
      " batch_normalization_6 (Bat  (None, 3, 4, 128)         512       \n",
      " chNormalization)                                                \n",
      "                                                                 \n",
      " activation_6 (Activation)   (None, 3, 4, 128)         0         \n",
      "                                                                 \n",
      " conv2d_6 (Conv2D)           (None, 1, 2, 256)         295168    \n",
      "                                                                 \n",
      " zero_padding2d_7 (ZeroPadd  (None, 3, 4, 256)         0         \n",
      " ing2D)                                                          \n",
      "                                                                 \n",
      " batch_normalization_7 (Bat  (None, 3, 4, 256)         1024      \n",
      " chNormalization)                                                \n",
      "                                                                 \n",
      " activation_7 (Activation)   (None, 3, 4, 256)         0         \n",
      "                                                                 \n",
      " conv2d_7 (Conv2D)           (None, 1, 2, 256)         590080    \n",
      "                                                                 \n",
      " global_average_pooling2d (  (None, 256)               0         \n",
      " GlobalAveragePooling2D)                                         \n",
      "                                                                 \n",
      " dense (Dense)               (None, 1024)              263168    \n",
      "                                                                 \n",
      " dense_1 (Dense)             (None, 2)                 2050      \n",
      "                                                                 \n",
      " activation_8 (Activation)   (None, 2)                 0         \n",
      "                                                                 \n",
      "=================================================================\n",
      "Total params: 1829446 (6.98 MB)\n",
      "Trainable params: 1828036 (6.97 MB)\n",
      "Non-trainable params: 1410 (5.51 KB)\n",
      "_________________________________________________________________\n",
      "None\n"
     ]
    }
   ],
   "source": [
    "model = Sequential()\n",
    "\n",
    "model.add(ZeroPadding2D(padding=(1,1),input_shape = (X_train.shape[1],X_train.shape[2],1)))\n",
    "model.add(BatchNormalization())\n",
    "model.add(Activation('relu'))\n",
    "model.add(Conv2D(32, (4, 7)))\n",
    "model.add(ZeroPadding2D(padding=(1,1)))\n",
    "model.add(BatchNormalization())\n",
    "model.add(Activation('relu'))\n",
    "model.add(Conv2D(32, (3, 3)))\n",
    "\n",
    "model.add(MaxPooling2D((3,3)))\n",
    "\n",
    "model.add(ZeroPadding2D(padding=(1,1)))\n",
    "model.add(BatchNormalization())\n",
    "model.add(Activation('relu'))\n",
    "model.add(Conv2D(64, (3, 3)))\n",
    "model.add(ZeroPadding2D(padding=(1,1)))\n",
    "model.add(BatchNormalization())\n",
    "model.add(Activation('relu'))\n",
    "model.add(Conv2D(64, (4, 7)))\n",
    "\n",
    "model.add(MaxPooling2D((3,3)))\n",
    "\n",
    "model.add(ZeroPadding2D(padding=(1,1)))\n",
    "model.add(BatchNormalization())\n",
    "model.add(Activation('relu'))\n",
    "model.add(Conv2D(128, (3, 3)))\n",
    "model.add(ZeroPadding2D(padding=(1,1)))\n",
    "model.add(BatchNormalization())\n",
    "model.add(Activation('relu'))\n",
    "model.add(Conv2D(128, (4, 7)))\n",
    "\n",
    "model.add(MaxPooling2D((3,3)))\n",
    "\n",
    "model.add(ZeroPadding2D(padding=(1,1)))\n",
    "model.add(BatchNormalization())\n",
    "model.add(Activation('relu'))\n",
    "model.add(Conv2D(256, (3, 3)))\n",
    "model.add(ZeroPadding2D(padding=(1,1)))\n",
    "model.add(BatchNormalization())\n",
    "model.add(Activation('relu'))\n",
    "model.add(Conv2D(256, (3, 3)))\n",
    "\n",
    "model.add(GlobalAveragePooling2D())\n",
    "\n",
    "\n",
    "model.add(Dense(1024, activation='relu'))\n",
    "model.add(Dense(classe))\n",
    "model.add(Activation('softmax'))\n",
    "\n",
    "\n",
    "model.compile(loss='categorical_crossentropy',\n",
    "              optimizer='adam',\n",
    "              metrics=['accuracy'])\n",
    "\n",
    "print(model.summary())"
   ]
  },
  {
   "cell_type": "code",
   "execution_count": 15,
   "metadata": {},
   "outputs": [
    {
     "name": "stdout",
     "output_type": "stream",
     "text": [
      "Epoch 1/100\n",
      "12/12 [==============================] - 44s 2s/step - loss: 0.5797 - accuracy: 0.8587 - val_loss: 0.3512 - val_accuracy: 0.9565\n",
      "Epoch 2/100\n",
      "12/12 [==============================] - 28s 2s/step - loss: 0.2324 - accuracy: 0.9520 - val_loss: 0.5014 - val_accuracy: 0.9565\n",
      "Epoch 3/100\n",
      "12/12 [==============================] - 23s 2s/step - loss: 0.0380 - accuracy: 0.9760 - val_loss: 0.9683 - val_accuracy: 0.0435\n",
      "Epoch 4/100\n",
      "12/12 [==============================] - 18s 2s/step - loss: 0.0011 - accuracy: 1.0000 - val_loss: 1.8510 - val_accuracy: 0.0435\n",
      "Epoch 5/100\n",
      "12/12 [==============================] - 24s 2s/step - loss: 9.6397e-05 - accuracy: 1.0000 - val_loss: 3.0079 - val_accuracy: 0.0435\n",
      "Epoch 6/100\n",
      "12/12 [==============================] - 21s 2s/step - loss: 4.8422e-05 - accuracy: 1.0000 - val_loss: 3.9755 - val_accuracy: 0.0435\n",
      "Epoch 7/100\n",
      "12/12 [==============================] - 22s 2s/step - loss: 2.7300e-05 - accuracy: 1.0000 - val_loss: 4.7473 - val_accuracy: 0.0435\n",
      "Epoch 8/100\n",
      "12/12 [==============================] - 21s 2s/step - loss: 9.8393e-05 - accuracy: 1.0000 - val_loss: 5.6903 - val_accuracy: 0.0435\n",
      "Epoch 9/100\n",
      "12/12 [==============================] - 20s 2s/step - loss: 5.7554e-06 - accuracy: 1.0000 - val_loss: 6.4673 - val_accuracy: 0.0435\n",
      "Epoch 10/100\n",
      "12/12 [==============================] - 26s 2s/step - loss: 5.5184e-06 - accuracy: 1.0000 - val_loss: 7.0467 - val_accuracy: 0.0435\n",
      "Epoch 11/100\n",
      "12/12 [==============================] - 36s 3s/step - loss: 1.2714e-05 - accuracy: 1.0000 - val_loss: 7.5018 - val_accuracy: 0.0435\n",
      "Epoch 12/100\n",
      "12/12 [==============================] - 34s 3s/step - loss: 6.0484e-06 - accuracy: 1.0000 - val_loss: 7.8859 - val_accuracy: 0.0435\n",
      "Epoch 13/100\n",
      "12/12 [==============================] - 23s 2s/step - loss: 1.3963e-05 - accuracy: 1.0000 - val_loss: 8.2138 - val_accuracy: 0.0435\n",
      "Epoch 14/100\n",
      "12/12 [==============================] - 24s 2s/step - loss: 4.2536e-06 - accuracy: 1.0000 - val_loss: 8.5118 - val_accuracy: 0.0435\n",
      "Epoch 15/100\n",
      "12/12 [==============================] - 27s 2s/step - loss: 4.5660e-06 - accuracy: 1.0000 - val_loss: 8.7901 - val_accuracy: 0.0435\n",
      "Epoch 16/100\n",
      "12/12 [==============================] - 26s 2s/step - loss: 5.1911e-06 - accuracy: 1.0000 - val_loss: 9.0808 - val_accuracy: 0.0435\n",
      "Epoch 17/100\n",
      "12/12 [==============================] - 19s 2s/step - loss: 2.6612e-06 - accuracy: 1.0000 - val_loss: 9.3323 - val_accuracy: 0.0435\n",
      "Epoch 18/100\n",
      "12/12 [==============================] - 22s 2s/step - loss: 1.7738e-06 - accuracy: 1.0000 - val_loss: 9.5535 - val_accuracy: 0.0435\n",
      "Epoch 19/100\n",
      "12/12 [==============================] - 27s 2s/step - loss: 2.9305e-06 - accuracy: 1.0000 - val_loss: 9.7353 - val_accuracy: 0.0435\n",
      "Epoch 20/100\n",
      "12/12 [==============================] - 21s 2s/step - loss: 1.6056e-06 - accuracy: 1.0000 - val_loss: 9.8824 - val_accuracy: 0.0435\n",
      "Epoch 21/100\n",
      "12/12 [==============================] - 27s 2s/step - loss: 3.2832e-06 - accuracy: 1.0000 - val_loss: 9.9849 - val_accuracy: 0.0435\n",
      "Epoch 22/100\n",
      "12/12 [==============================] - 27s 2s/step - loss: 2.4915e-06 - accuracy: 1.0000 - val_loss: 10.0311 - val_accuracy: 0.0435\n",
      "Epoch 23/100\n",
      "12/12 [==============================] - 30s 3s/step - loss: 1.2425e-05 - accuracy: 1.0000 - val_loss: 9.9984 - val_accuracy: 0.0435\n",
      "Epoch 24/100\n",
      "12/12 [==============================] - 26s 2s/step - loss: 8.8006e-06 - accuracy: 1.0000 - val_loss: 9.9000 - val_accuracy: 0.0435\n",
      "Epoch 25/100\n",
      "12/12 [==============================] - 30s 2s/step - loss: 4.7446e-06 - accuracy: 1.0000 - val_loss: 9.5700 - val_accuracy: 0.0435\n",
      "Epoch 26/100\n",
      "12/12 [==============================] - 21s 2s/step - loss: 2.3024e-06 - accuracy: 1.0000 - val_loss: 8.8452 - val_accuracy: 0.0435\n",
      "Epoch 27/100\n",
      "12/12 [==============================] - 22s 2s/step - loss: 5.1801e-06 - accuracy: 1.0000 - val_loss: 7.7481 - val_accuracy: 0.0994\n",
      "Epoch 28/100\n",
      "12/12 [==============================] - 21s 2s/step - loss: 9.2187e-07 - accuracy: 1.0000 - val_loss: 6.4436 - val_accuracy: 0.1615\n",
      "Epoch 29/100\n",
      "12/12 [==============================] - 28s 2s/step - loss: 9.0280e-07 - accuracy: 1.0000 - val_loss: 5.1798 - val_accuracy: 0.2795\n",
      "Epoch 30/100\n",
      "12/12 [==============================] - 22s 2s/step - loss: 1.5490e-06 - accuracy: 1.0000 - val_loss: 3.9995 - val_accuracy: 0.3727\n",
      "Epoch 31/100\n",
      "12/12 [==============================] - 24s 2s/step - loss: 1.1072e-06 - accuracy: 1.0000 - val_loss: 2.9757 - val_accuracy: 0.5155\n",
      "Epoch 32/100\n",
      "12/12 [==============================] - 21s 2s/step - loss: 1.1844e-06 - accuracy: 1.0000 - val_loss: 2.1182 - val_accuracy: 0.6087\n",
      "Epoch 33/100\n",
      "12/12 [==============================] - 18s 1s/step - loss: 7.8231e-07 - accuracy: 1.0000 - val_loss: 1.4862 - val_accuracy: 0.7267\n",
      "Epoch 34/100\n",
      "12/12 [==============================] - 17s 1s/step - loss: 1.6453e-06 - accuracy: 1.0000 - val_loss: 1.0844 - val_accuracy: 0.8012\n",
      "Epoch 35/100\n",
      "12/12 [==============================] - 24s 2s/step - loss: 9.3235e-07 - accuracy: 1.0000 - val_loss: 0.8001 - val_accuracy: 0.8509\n",
      "Epoch 36/100\n",
      "12/12 [==============================] - 36s 3s/step - loss: 6.7392e-07 - accuracy: 1.0000 - val_loss: 0.5672 - val_accuracy: 0.8696\n",
      "Epoch 37/100\n",
      "12/12 [==============================] - 29s 2s/step - loss: 1.1981e-06 - accuracy: 1.0000 - val_loss: 0.4009 - val_accuracy: 0.9193\n",
      "Epoch 38/100\n",
      "12/12 [==============================] - 25s 2s/step - loss: 7.2065e-07 - accuracy: 1.0000 - val_loss: 0.2900 - val_accuracy: 0.9317\n",
      "Epoch 39/100\n",
      "12/12 [==============================] - 26s 2s/step - loss: 2.0685e-06 - accuracy: 1.0000 - val_loss: 0.2067 - val_accuracy: 0.9503\n",
      "Epoch 40/100\n",
      "12/12 [==============================] - 26s 2s/step - loss: 8.4939e-07 - accuracy: 1.0000 - val_loss: 0.1457 - val_accuracy: 0.9627\n",
      "Epoch 41/100\n",
      "12/12 [==============================] - 31s 3s/step - loss: 1.5938e-06 - accuracy: 1.0000 - val_loss: 0.0967 - val_accuracy: 0.9689\n",
      "Epoch 42/100\n",
      "12/12 [==============================] - 31s 3s/step - loss: 7.1779e-07 - accuracy: 1.0000 - val_loss: 0.0610 - val_accuracy: 0.9752\n",
      "Epoch 43/100\n",
      "12/12 [==============================] - 33s 3s/step - loss: 7.8899e-07 - accuracy: 1.0000 - val_loss: 0.0343 - val_accuracy: 0.9814\n",
      "Epoch 44/100\n",
      "12/12 [==============================] - 29s 2s/step - loss: 7.0094e-07 - accuracy: 1.0000 - val_loss: 0.0161 - val_accuracy: 0.9876\n",
      "Epoch 45/100\n",
      "12/12 [==============================] - 23s 2s/step - loss: 6.7646e-07 - accuracy: 1.0000 - val_loss: 0.0064 - val_accuracy: 1.0000\n",
      "Epoch 46/100\n",
      "12/12 [==============================] - 17s 1s/step - loss: 1.0487e-06 - accuracy: 1.0000 - val_loss: 0.0021 - val_accuracy: 1.0000\n",
      "Epoch 47/100\n",
      "12/12 [==============================] - 18s 1s/step - loss: 2.0409e-06 - accuracy: 1.0000 - val_loss: 6.7640e-04 - val_accuracy: 1.0000\n",
      "Epoch 48/100\n",
      "12/12 [==============================] - 17s 1s/step - loss: 6.7391e-07 - accuracy: 1.0000 - val_loss: 2.5247e-04 - val_accuracy: 1.0000\n",
      "Epoch 49/100\n",
      "12/12 [==============================] - 20s 2s/step - loss: 6.0399e-07 - accuracy: 1.0000 - val_loss: 1.8599e-04 - val_accuracy: 1.0000\n",
      "Epoch 50/100\n",
      "12/12 [==============================] - 18s 1s/step - loss: 7.8898e-07 - accuracy: 1.0000 - val_loss: 2.5380e-04 - val_accuracy: 1.0000\n",
      "Epoch 51/100\n",
      "12/12 [==============================] - 17s 1s/step - loss: 6.7327e-07 - accuracy: 1.0000 - val_loss: 4.3213e-04 - val_accuracy: 1.0000\n",
      "Epoch 52/100\n",
      "12/12 [==============================] - 17s 1s/step - loss: 1.2086e-06 - accuracy: 1.0000 - val_loss: 7.2951e-04 - val_accuracy: 1.0000\n",
      "Epoch 53/100\n",
      "12/12 [==============================] - 17s 1s/step - loss: 6.1702e-07 - accuracy: 1.0000 - val_loss: 0.0012 - val_accuracy: 1.0000\n",
      "Epoch 54/100\n",
      "12/12 [==============================] - 17s 1s/step - loss: 1.6340e-06 - accuracy: 1.0000 - val_loss: 0.0020 - val_accuracy: 1.0000\n",
      "Epoch 55/100\n",
      "12/12 [==============================] - 17s 1s/step - loss: 4.0753e-07 - accuracy: 1.0000 - val_loss: 0.0030 - val_accuracy: 1.0000\n",
      "Epoch 56/100\n",
      "12/12 [==============================] - 17s 1s/step - loss: 3.6271e-07 - accuracy: 1.0000 - val_loss: 0.0044 - val_accuracy: 1.0000\n",
      "Epoch 57/100\n",
      "12/12 [==============================] - 17s 1s/step - loss: 1.1704e-06 - accuracy: 1.0000 - val_loss: 0.0060 - val_accuracy: 0.9938\n",
      "Epoch 58/100\n",
      "12/12 [==============================] - 17s 1s/step - loss: 1.0639e-06 - accuracy: 1.0000 - val_loss: 0.0070 - val_accuracy: 0.9938\n",
      "Epoch 59/100\n",
      "12/12 [==============================] - 19s 2s/step - loss: 2.6480e-07 - accuracy: 1.0000 - val_loss: 0.0084 - val_accuracy: 0.9938\n",
      "Epoch 60/100\n",
      "12/12 [==============================] - 18s 1s/step - loss: 3.3410e-07 - accuracy: 1.0000 - val_loss: 0.0099 - val_accuracy: 0.9938\n",
      "Epoch 61/100\n",
      "12/12 [==============================] - 17s 1s/step - loss: 4.3805e-07 - accuracy: 1.0000 - val_loss: 0.0114 - val_accuracy: 0.9938\n",
      "Epoch 62/100\n",
      "12/12 [==============================] - 17s 1s/step - loss: 3.0486e-07 - accuracy: 1.0000 - val_loss: 0.0131 - val_accuracy: 0.9938\n",
      "Epoch 63/100\n",
      "12/12 [==============================] - 17s 1s/step - loss: 3.1630e-07 - accuracy: 1.0000 - val_loss: 0.0145 - val_accuracy: 0.9938\n",
      "Epoch 64/100\n",
      "12/12 [==============================] - 18s 1s/step - loss: 2.0790e-07 - accuracy: 1.0000 - val_loss: 0.0158 - val_accuracy: 0.9938\n",
      "Epoch 65/100\n",
      "12/12 [==============================] - 17s 1s/step - loss: 2.6131e-07 - accuracy: 1.0000 - val_loss: 0.0172 - val_accuracy: 0.9938\n",
      "Epoch 66/100\n",
      "12/12 [==============================] - 17s 1s/step - loss: 2.3715e-07 - accuracy: 1.0000 - val_loss: 0.0184 - val_accuracy: 0.9938\n",
      "Epoch 67/100\n",
      "12/12 [==============================] - 17s 1s/step - loss: 4.0245e-07 - accuracy: 1.0000 - val_loss: 0.0194 - val_accuracy: 0.9938\n",
      "Epoch 68/100\n",
      "12/12 [==============================] - 18s 1s/step - loss: 3.3219e-07 - accuracy: 1.0000 - val_loss: 0.0205 - val_accuracy: 0.9938\n",
      "Epoch 69/100\n",
      "12/12 [==============================] - 18s 2s/step - loss: 4.6157e-07 - accuracy: 1.0000 - val_loss: 0.0214 - val_accuracy: 0.9938\n",
      "Epoch 70/100\n",
      "12/12 [==============================] - 18s 2s/step - loss: 3.0231e-07 - accuracy: 1.0000 - val_loss: 0.0220 - val_accuracy: 0.9938\n",
      "Epoch 71/100\n",
      "12/12 [==============================] - 16s 1s/step - loss: 1.0242e-06 - accuracy: 1.0000 - val_loss: 0.0225 - val_accuracy: 0.9876\n",
      "Epoch 72/100\n",
      "12/12 [==============================] - 16s 1s/step - loss: 3.9068e-07 - accuracy: 1.0000 - val_loss: 0.0225 - val_accuracy: 0.9876\n",
      "Epoch 73/100\n",
      "12/12 [==============================] - 17s 1s/step - loss: 4.4695e-07 - accuracy: 1.0000 - val_loss: 0.0230 - val_accuracy: 0.9876\n",
      "Epoch 74/100\n",
      "12/12 [==============================] - 17s 1s/step - loss: 2.1013e-07 - accuracy: 1.0000 - val_loss: 0.0237 - val_accuracy: 0.9876\n",
      "Epoch 75/100\n",
      "12/12 [==============================] - 16s 1s/step - loss: 1.8310e-07 - accuracy: 1.0000 - val_loss: 0.0241 - val_accuracy: 0.9876\n",
      "Epoch 76/100\n",
      "12/12 [==============================] - 17s 1s/step - loss: 4.6220e-07 - accuracy: 1.0000 - val_loss: 0.0243 - val_accuracy: 0.9876\n",
      "Epoch 77/100\n",
      "12/12 [==============================] - 18s 2s/step - loss: 3.8019e-07 - accuracy: 1.0000 - val_loss: 0.0243 - val_accuracy: 0.9876\n",
      "Epoch 78/100\n",
      "12/12 [==============================] - 24s 2s/step - loss: 1.1062e-06 - accuracy: 1.0000 - val_loss: 0.0242 - val_accuracy: 0.9876\n",
      "Epoch 79/100\n",
      "12/12 [==============================] - 18s 1s/step - loss: 2.1553e-07 - accuracy: 1.0000 - val_loss: 0.0237 - val_accuracy: 0.9876\n",
      "Epoch 80/100\n",
      "12/12 [==============================] - 17s 1s/step - loss: 1.7897e-07 - accuracy: 1.0000 - val_loss: 0.0239 - val_accuracy: 0.9876\n",
      "Epoch 81/100\n",
      "12/12 [==============================] - 17s 1s/step - loss: 1.9328e-07 - accuracy: 1.0000 - val_loss: 0.0239 - val_accuracy: 0.9876\n",
      "Epoch 82/100\n",
      "12/12 [==============================] - 17s 1s/step - loss: 1.8946e-07 - accuracy: 1.0000 - val_loss: 0.0242 - val_accuracy: 0.9876\n",
      "Epoch 83/100\n",
      "12/12 [==============================] - 18s 2s/step - loss: 1.5926e-07 - accuracy: 1.0000 - val_loss: 0.0244 - val_accuracy: 0.9876\n",
      "Epoch 84/100\n",
      "12/12 [==============================] - 17s 1s/step - loss: 2.2634e-07 - accuracy: 1.0000 - val_loss: 0.0242 - val_accuracy: 0.9876\n",
      "Epoch 85/100\n",
      "12/12 [==============================] - 17s 1s/step - loss: 1.3129e-07 - accuracy: 1.0000 - val_loss: 0.0244 - val_accuracy: 0.9876\n",
      "Epoch 86/100\n",
      "12/12 [==============================] - 17s 1s/step - loss: 3.9323e-07 - accuracy: 1.0000 - val_loss: 0.0244 - val_accuracy: 0.9876\n",
      "Epoch 87/100\n",
      "12/12 [==============================] - 17s 1s/step - loss: 2.1839e-07 - accuracy: 1.0000 - val_loss: 0.0246 - val_accuracy: 0.9876\n",
      "Epoch 88/100\n",
      "12/12 [==============================] - 17s 1s/step - loss: 1.8946e-07 - accuracy: 1.0000 - val_loss: 0.0242 - val_accuracy: 0.9876\n",
      "Epoch 89/100\n",
      "12/12 [==============================] - 17s 1s/step - loss: 1.3609e-06 - accuracy: 1.0000 - val_loss: 0.0262 - val_accuracy: 0.9876\n",
      "Epoch 90/100\n",
      "12/12 [==============================] - 17s 1s/step - loss: 7.5683e-07 - accuracy: 1.0000 - val_loss: 0.0285 - val_accuracy: 0.9876\n",
      "Epoch 91/100\n",
      "12/12 [==============================] - 17s 1s/step - loss: 3.6684e-07 - accuracy: 1.0000 - val_loss: 0.0291 - val_accuracy: 0.9876\n",
      "Epoch 92/100\n",
      "12/12 [==============================] - 17s 1s/step - loss: 3.9768e-07 - accuracy: 1.0000 - val_loss: 0.0293 - val_accuracy: 0.9876\n",
      "Epoch 93/100\n",
      "12/12 [==============================] - 17s 1s/step - loss: 1.9582e-07 - accuracy: 1.0000 - val_loss: 0.0292 - val_accuracy: 0.9876\n",
      "Epoch 94/100\n",
      "12/12 [==============================] - 17s 1s/step - loss: 2.0281e-07 - accuracy: 1.0000 - val_loss: 0.0293 - val_accuracy: 0.9876\n",
      "Epoch 95/100\n",
      "12/12 [==============================] - 17s 1s/step - loss: 8.0899e-07 - accuracy: 1.0000 - val_loss: 0.0283 - val_accuracy: 0.9876\n",
      "Epoch 96/100\n",
      "12/12 [==============================] - 17s 1s/step - loss: 2.2284e-07 - accuracy: 1.0000 - val_loss: 0.0278 - val_accuracy: 0.9876\n",
      "Epoch 97/100\n",
      "12/12 [==============================] - 17s 1s/step - loss: 1.3637e-07 - accuracy: 1.0000 - val_loss: 0.0278 - val_accuracy: 0.9876\n",
      "Epoch 98/100\n",
      "12/12 [==============================] - 17s 1s/step - loss: 2.0695e-07 - accuracy: 1.0000 - val_loss: 0.0280 - val_accuracy: 0.9876\n",
      "Epoch 99/100\n",
      "12/12 [==============================] - 17s 1s/step - loss: 1.0776e-07 - accuracy: 1.0000 - val_loss: 0.0280 - val_accuracy: 0.9876\n",
      "Epoch 100/100\n",
      "12/12 [==============================] - 17s 1s/step - loss: 1.6721e-07 - accuracy: 1.0000 - val_loss: 0.0278 - val_accuracy: 0.9876\n"
     ]
    }
   ],
   "source": [
    "\n",
    "history = model.fit(X_train, y_train, validation_split=0.3, batch_size= 32, epochs=100,\n",
    "    callbacks=[\n",
    "            EarlyStopping(patience=100, monitor=\"val_loss\", verbose=1),\n",
    "                          CSVLogger('voice_recognition.log')\n",
    "])"
   ]
  },
  {
   "cell_type": "code",
   "execution_count": 16,
   "metadata": {},
   "outputs": [
    {
     "data": {
      "image/png": "[encoded data removed]",
      "text/plain": [
       "<Figure size 640x480 with 1 Axes>"
      ]
     },
     "metadata": {},
     "output_type": "display_data"
    },
    {
     "data": {
      "image/png": "[encoded data removed]",
      "text/plain": [
       "<Figure size 640x480 with 1 Axes>"
      ]
     },
     "metadata": {},
     "output_type": "display_data"
    }
   ],
   "source": [
    "# Plot training & validation accuracy values\n",
    "plt.plot(history.history['accuracy'])\n",
    "plt.plot(history.history['val_accuracy'])\n",
    "plt.title('Model accuracy')\n",
    "plt.ylabel('Accuracy')\n",
    "plt.xlabel('Epoch')\n",
    "plt.legend(['Train', 'Val'], loc='upper left')\n",
    "plt.show()\n",
    "\n",
    "# Plot training & validation loss values\n",
    "plt.plot(history.history['loss'])\n",
    "plt.plot(history.history['val_loss'])\n",
    "plt.title('Model loss')\n",
    "plt.ylabel('Loss')\n",
    "plt.xlabel('Epoch')\n",
    "plt.legend(['Train', 'Val'], loc='upper left')\n",
    "plt.show()"
   ]
  },
  {
   "cell_type": "code",
   "execution_count": 17,
   "metadata": {},
   "outputs": [
    {
     "name": "stdout",
     "output_type": "stream",
     "text": [
      "9/9 [==============================] - 2s 199ms/step - loss: 0.0131 - accuracy: 0.9962\n"
     ]
    }
   ],
   "source": [
    "e = model.evaluate(X_test, y_test)"
   ]
  },
  {
   "cell_type": "code",
   "execution_count": 18,
   "metadata": {},
   "outputs": [
    {
     "data": {
      "text/plain": [
       "[0.01314902026206255, 0.9962121248245239]"
      ]
     },
     "execution_count": 18,
     "metadata": {},
     "output_type": "execute_result"
    }
   ],
   "source": [
    "e"
   ]
  },
  {
   "cell_type": "code",
   "execution_count": 19,
   "metadata": {},
   "outputs": [
    {
     "name": "stdout",
     "output_type": "stream",
     "text": [
      "9/9 [==============================] - 2s 227ms/step\n"
     ]
    }
   ],
   "source": [
    "y_pred = model.predict(X_test)"
   ]
  },
  {
   "cell_type": "code",
   "execution_count": 20,
   "metadata": {},
   "outputs": [],
   "source": [
    "from sklearn.metrics import confusion_matrix, classification_report"
   ]
  },
  {
   "cell_type": "code",
   "execution_count": 21,
   "metadata": {},
   "outputs": [],
   "source": [
    "y_p = np.argmax(y_pred, -1)"
   ]
  },
  {
   "cell_type": "code",
   "execution_count": 22,
   "metadata": {},
   "outputs": [
    {
     "data": {
      "text/plain": [
       "array([1, 1, 1, 1, 1, 1, 1, 1, 1, 1, 1, 1, 1, 1, 1, 1, 1, 1, 0, 0, 1, 1,\n",
       "       1, 1, 1, 1, 1, 1, 1, 1, 1, 0, 1, 1, 1, 1, 1, 1, 1, 1, 1, 1, 1, 1,\n",
       "       1, 1, 1, 1, 1, 0, 1, 1, 1, 1, 1, 1, 1, 1, 1, 1, 1, 1, 1, 1, 1, 1,\n",
       "       1, 1, 1, 1, 1, 1, 1, 1, 1, 1, 1, 1, 1, 1, 1, 1, 1, 1, 1, 1, 1, 1,\n",
       "       1, 1, 1, 1, 1, 1, 1, 1, 1, 1, 1, 1, 1, 1, 1, 1, 1, 1, 1, 1, 1, 1,\n",
       "       1, 1, 1, 1, 1, 1, 1, 1, 1, 1, 1, 1, 1, 1, 1, 1, 1, 1, 1, 1, 1, 1,\n",
       "       1, 1, 1, 1, 1, 1, 1, 1, 1, 1, 1, 1, 1, 1, 0, 1, 1, 1, 1, 0, 1, 1,\n",
       "       1, 1, 1, 1, 1, 1, 1, 1, 0, 1, 1, 1, 1, 1, 1, 1, 1, 1, 1, 1, 1, 1,\n",
       "       1, 1, 1, 1, 1, 1, 1, 1, 0, 1, 1, 1, 1, 1, 1, 1, 1, 1, 1, 1, 1, 1,\n",
       "       1, 1, 1, 1, 1, 1, 1, 1, 1, 1, 1, 1, 1, 1, 1, 1, 1, 1, 1, 1, 1, 1,\n",
       "       1, 1, 1, 1, 1, 1, 1, 1, 1, 1, 1, 1, 1, 1, 1, 1, 1, 1, 1, 1, 1, 1,\n",
       "       1, 1, 1, 1, 1, 1, 1, 1, 1, 1, 1, 1, 1, 1, 1, 1, 1, 1, 0, 1, 1, 1],\n",
       "      dtype=int64)"
      ]
     },
     "execution_count": 22,
     "metadata": {},
     "output_type": "execute_result"
    }
   ],
   "source": [
    "y_p"
   ]
  },
  {
   "cell_type": "code",
   "execution_count": 23,
   "metadata": {},
   "outputs": [],
   "source": [
    "y_t = np.argmax(y_test, -1)"
   ]
  },
  {
   "cell_type": "code",
   "execution_count": 24,
   "metadata": {},
   "outputs": [
    {
     "data": {
      "text/plain": [
       "array([1, 1, 1, 1, 1, 1, 1, 1, 1, 1, 1, 1, 1, 1, 1, 1, 1, 1, 0, 0, 1, 1,\n",
       "       1, 1, 1, 1, 1, 1, 1, 1, 1, 0, 1, 1, 1, 1, 1, 1, 1, 1, 1, 1, 1, 1,\n",
       "       1, 1, 1, 1, 1, 0, 1, 1, 1, 0, 1, 1, 1, 1, 1, 1, 1, 1, 1, 1, 1, 1,\n",
       "       1, 1, 1, 1, 1, 1, 1, 1, 1, 1, 1, 1, 1, 1, 1, 1, 1, 1, 1, 1, 1, 1,\n",
       "       1, 1, 1, 1, 1, 1, 1, 1, 1, 1, 1, 1, 1, 1, 1, 1, 1, 1, 1, 1, 1, 1,\n",
       "       1, 1, 1, 1, 1, 1, 1, 1, 1, 1, 1, 1, 1, 1, 1, 1, 1, 1, 1, 1, 1, 1,\n",
       "       1, 1, 1, 1, 1, 1, 1, 1, 1, 1, 1, 1, 1, 1, 0, 1, 1, 1, 1, 0, 1, 1,\n",
       "       1, 1, 1, 1, 1, 1, 1, 1, 0, 1, 1, 1, 1, 1, 1, 1, 1, 1, 1, 1, 1, 1,\n",
       "       1, 1, 1, 1, 1, 1, 1, 1, 0, 1, 1, 1, 1, 1, 1, 1, 1, 1, 1, 1, 1, 1,\n",
       "       1, 1, 1, 1, 1, 1, 1, 1, 1, 1, 1, 1, 1, 1, 1, 1, 1, 1, 1, 1, 1, 1,\n",
       "       1, 1, 1, 1, 1, 1, 1, 1, 1, 1, 1, 1, 1, 1, 1, 1, 1, 1, 1, 1, 1, 1,\n",
       "       1, 1, 1, 1, 1, 1, 1, 1, 1, 1, 1, 1, 1, 1, 1, 1, 1, 1, 0, 1, 1, 1],\n",
       "      dtype=int64)"
      ]
     },
     "execution_count": 24,
     "metadata": {},
     "output_type": "execute_result"
    }
   ],
   "source": [
    "y_t"
   ]
  },
  {
   "cell_type": "code",
   "execution_count": 26,
   "metadata": {},
   "outputs": [
    {
     "data": {
      "text/plain": [
       "array([[  9,   1],\n",
       "       [  0, 254]], dtype=int64)"
      ]
     },
     "execution_count": 26,
     "metadata": {},
     "output_type": "execute_result"
    }
   ],
   "source": [
    "confusion_matrix(y_t, y_p)"
   ]
  },
  {
   "cell_type": "code",
   "execution_count": 27,
   "metadata": {},
   "outputs": [
    {
     "name": "stdout",
     "output_type": "stream",
     "text": [
      "              precision    recall  f1-score   support\n",
      "\n",
      "           0       1.00      0.90      0.95        10\n",
      "           1       1.00      1.00      1.00       254\n",
      "\n",
      "    accuracy                           1.00       264\n",
      "   macro avg       1.00      0.95      0.97       264\n",
      "weighted avg       1.00      1.00      1.00       264\n",
      "\n"
     ]
    }
   ],
   "source": [
    "print(classification_report(y_t, y_p))"
   ]
  },
  {
   "cell_type": "code",
   "execution_count": 28,
   "metadata": {},
   "outputs": [],
   "source": [
    "import pickle\n",
    "\n",
    "pickle.dump(model, open('model.pkl', 'wb'))"
   ]
  },
  {
   "cell_type": "code",
   "execution_count": null,
   "metadata": {},
   "outputs": [],
   "source": []
  }
 ],
 "metadata": {
  "kernelspec": {
   "display_name": "Python 3",
   "language": "python",
   "name": "python3"
  },
  "language_info": {
   "codemirror_mode": {
    "name": "ipython",
    "version": 3
   },
   "file_extension": ".py",
   "mimetype": "text/x-python",
   "name": "python",
   "nbconvert_exporter": "python",
   "pygments_lexer": "ipython3",
   "version": "3.8.18"
  }
 },
 "nbformat": 4,
 "nbformat_minor": 2
}
